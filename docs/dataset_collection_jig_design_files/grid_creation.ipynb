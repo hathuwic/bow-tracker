{
 "cells": [
  {
   "cell_type": "code",
   "execution_count": 1,
   "id": "4c29266e-916a-4e6a-8d18-f634161e4059",
   "metadata": {},
   "outputs": [],
   "source": [
    "import matplotlib.pyplot as plt\n",
    "import numpy as np"
   ]
  },
  {
   "cell_type": "code",
   "execution_count": 109,
   "id": "5569bd31-4a19-4a61-a382-44dc60287430",
   "metadata": {},
   "outputs": [
    {
     "data": {
      "image/png": "[encoded data removed]",
      "text/plain": [
       "<Figure size 3228.35x157.48 with 1 Axes>"
      ]
     },
     "metadata": {},
     "output_type": "display_data"
    }
   ],
   "source": [
    "cm = 1/2.54\n",
    "\n",
    "x_range = (-70, 750)\n",
    "y_range = (-10, 30)\n",
    "x_axis_labels = np.arange(x_range[0], x_range[1])\n",
    "y_axis_labels = np.arange(y_range[0], y_range[1])\n",
    "\n",
    "tip_nail_point = (0, 13)\n",
    "frog_nail_point = (662, 13)\n",
    "\n",
    "fig, ax = plt.subplots(figsize=(82*cm, 4*cm))\n",
    "ax.set_aspect(1)\n",
    "\n",
    "for x in x_axis_labels:\n",
    "    if x == tip_nail_point[0] or x == frog_nail_point[0]:\n",
    "        ax.axvline(x, color=\"black\", linewidth=3)\n",
    "    elif x % 100 == 0 and x < frog_nail_point[0]:\n",
    "        ax.axvline(x, color=\"black\", linewidth=2)\n",
    "    elif x % 10 == 0:\n",
    "        ax.axvline(x, color=\"black\", linewidth=1.25)\n",
    "    elif x % 2 == 0:\n",
    "        ax.axvline(x, color=\"black\", linewidth=0.5)\n",
    "    # else:\n",
    "    #     ax.axvline(x, color=\"black\", linewidth=0.05)\n",
    "\n",
    "for y in y_axis_labels:\n",
    "    if y == 0:\n",
    "        ax.axhline(y, color=\"black\", linewidth=3)\n",
    "    elif y % 10 == 0:\n",
    "        ax.axhline(y, color=\"black\", linewidth=1.25)\n",
    "    elif y % 2 == 0:\n",
    "        ax.axhline(y, color=\"black\", linewidth=0.5)\n",
    "    # else:\n",
    "    #     ax.axhline(y, color=\"black\", linewidth=0.5)\n",
    "\n",
    "ax.scatter(tip_nail_point[0], tip_nail_point[1], c=\"black\", linewidths=0, s=20)\n",
    "ax.scatter(frog_nail_point[0], frog_nail_point[1], c=\"black\", linewidths=0, s=20)\n",
    "\n",
    "ax.set_xlim(x_range[0], x_range[1])\n",
    "ax.set_ylim(y_range[0], y_range[1])\n",
    "ax.spines[\"top\"]\n",
    "ax.set_xticks([])\n",
    "ax.set_yticks([])\n",
    "ax.spines.top.set(linewidth=0.25)\n",
    "ax.spines.bottom.set(linewidth=0.25)\n",
    "ax.spines.left.set(linewidth=0.25)\n",
    "ax.spines.right.set(linewidth=0.25)\n",
    "\n",
    "plt.savefig(\"dataset_collection_grid.svg\", format=\"svg\", bbox_inches=\"tight\", pad_inches=0)\n",
    "plt.show()"
   ]
  },
  {
   "cell_type": "code",
   "execution_count": null,
   "id": "eb5ec98b-39ff-4fcf-806b-cceadd5c2181",
   "metadata": {},
   "outputs": [],
   "source": []
  }
 ],
 "metadata": {
  "kernelspec": {
   "display_name": "Python 3 (ipykernel)",
   "language": "python",
   "name": "python3"
  },
  "language_info": {
   "codemirror_mode": {
    "name": "ipython",
    "version": 3
   },
   "file_extension": ".py",
   "mimetype": "text/x-python",
   "name": "python",
   "nbconvert_exporter": "python",
   "pygments_lexer": "ipython3",
   "version": "3.11.7"
  }
 },
 "nbformat": 4,
 "nbformat_minor": 5
}
