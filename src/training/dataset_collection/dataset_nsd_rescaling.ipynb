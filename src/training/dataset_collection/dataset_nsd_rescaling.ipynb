{
 "cells": [
  {
   "cell_type": "markdown",
   "id": "99f2580e",
   "metadata": {},
   "source": [
    "# Rescaling dataset from HSD to force"
   ]
  },
  {
   "cell_type": "code",
   "execution_count": null,
   "id": "2cf296b8-37e1-4406-aa61-a3a1cfff66b4",
   "metadata": {},
   "outputs": [],
   "source": [
    "import pandas as pd\n",
    "import numpy as np\n",
    "import matplotlib.pyplot as plt\n",
    "import os"
   ]
  },
  {
   "cell_type": "markdown",
   "id": "e3ee788e",
   "metadata": {},
   "source": [
    "### Load dataset"
   ]
  },
  {
   "cell_type": "code",
   "execution_count": null,
   "id": "782e34db-9271-445d-b859-e7364a1e64ec",
   "metadata": {},
   "outputs": [],
   "source": [
    "cols_to_keep = [\"position\", \"hair_stick_distance\", \"norm1\", \"norm2\", \"norm3\", \"norm4\"]\n",
    "\n",
    "dataset_folder = \"./dataset/\"\n",
    "dataset_filename = \"\"\n",
    "dataset_filepath = os.path.join(dataset_folder, dataset_filename)\n",
    "dataset = pd.read_csv(dataset_filepath)\n",
    "\n",
    "dataset"
   ]
  },
  {
   "cell_type": "markdown",
   "id": "9bcf945f-6fa3-4c14-8ea5-2b0dbfa32956",
   "metadata": {},
   "source": [
    "### Correct and interpolate HSD values"
   ]
  },
  {
   "cell_type": "code",
   "execution_count": null,
   "id": "a179d96d-fe19-472a-8dd0-98179cedb18e",
   "metadata": {},
   "outputs": [],
   "source": [
    "hsd_range = [0, 12]\n",
    "\n",
    "dataset_size = len(dataset.index)\n",
    "\n",
    "pos_uniques = dataset[\"position\"].unique()\n",
    "\n",
    "pos_hsd_maxes = {}\n",
    "\n",
    "for pos in pos_uniques:\n",
    "    pos_subset = dataset[dataset[\"position\"] == pos]\n",
    "    hsd_max = pos_subset[\"hair_stick_distance\"].max()\n",
    "    pos_hsd_maxes[pos] = hsd_max\n",
    "\n",
    "pos_hsd_maxes_corrected = pos_hsd_maxes.copy()\n",
    "\n",
    "# Manually change values at sensor positions\n",
    "pos_hsd_maxes_corrected[180] = 10\n",
    "pos_hsd_maxes_corrected[200] = 10\n",
    "pos_hsd_maxes_corrected[260] = 12\n",
    "\n",
    "pos_hsd_maxes_interp = pos_hsd_maxes_corrected.copy()\n",
    "\n",
    "pos_step = 20 # mm\n",
    "\n",
    "ranges_to_interp = [[80, 120], [120, 240], [400, 540], [540, 580]]\n",
    "\n",
    "for range in ranges_to_interp:\n",
    "    interp_hsd_values = np.linspace(\n",
    "        pos_hsd_maxes[range[0]], \n",
    "        pos_hsd_maxes[range[1]], \n",
    "        int((range[1]-range[0]) / pos_step),\n",
    "        endpoint=False\n",
    "    )\n",
    "\n",
    "    for i, new_hsd_max in enumerate(interp_hsd_values):\n",
    "        interp_pos = range[0] + (i * 20)\n",
    "        pos_hsd_maxes_interp[interp_pos] = new_hsd_max\n",
    "\n",
    "plt.figure(figsize=(10,2))\n",
    "plt.plot(pos_hsd_maxes.keys(), pos_hsd_maxes.values(), ls=\":\", c=\"darkorange\", label=\"Measured HSD\")\n",
    "plt.plot(pos_hsd_maxes_corrected.keys(), pos_hsd_maxes_corrected.values(), ls=\"--\", c=\"darkblue\", label=\"Corrected HSD\")\n",
    "plt.plot(pos_hsd_maxes_interp.keys(), pos_hsd_maxes_interp.values(), c=\"green\", label=\"Interpolated HSD\")\n",
    "plt.xticks(np.arange(0, 670, 20), rotation=45)\n",
    "plt.yticks(np.arange(0, 13, 2))\n",
    "plt.xlabel(\"Bow position [mm]\")\n",
    "plt.ylabel(\"Max HSD [mm]\")\n",
    "plt.grid(which=\"both\", color=\"lightgrey\")\n",
    "plt.xlim(0,660)\n",
    "plt.ylim(0,12.5)\n",
    "plt.title(\"Interpolation & Correction of Maximum HSD Values in Bow Tracking Dataset\")\n",
    "plt.legend()\n",
    "plt.show()"
   ]
  },
  {
   "cell_type": "markdown",
   "id": "9a120245-b3be-4180-b7f4-8e7c3ffbe9e6",
   "metadata": {},
   "source": [
    "### Calculate force per dataset example using rescaled/interpolated HSD values"
   ]
  },
  {
   "cell_type": "code",
   "execution_count": null,
   "id": "2eb01b50-da2c-43b6-9049-23834a2c434f",
   "metadata": {},
   "outputs": [],
   "source": [
    "for i, row in dataset.iterrows():\n",
    "    max_new_hsd = pos_hsd_maxes_interp[row[\"position\"]]\n",
    "    max_old_hsd = pos_hsd_maxes[row[\"position\"]]\n",
    "    if max_new_hsd == 0:\n",
    "        force = 0\n",
    "    else:\n",
    "        scale_factor = max_new_hsd / max_old_hsd\n",
    "        force = ((row[\"hair_stick_distance\"] * scale_factor) / max_new_hsd) * 12\n",
    "\n",
    "    dataset.loc[i, \"force\"] = force\n",
    "\n",
    "dataset"
   ]
  },
  {
   "cell_type": "code",
   "execution_count": null,
   "id": "8b897097-852b-470a-b569-607259a301a2",
   "metadata": {},
   "outputs": [],
   "source": [
    "dataset.to_csv(\"./dataset_collection/dataset/dataset_2024-04-18_18-30-01_2024-04-22_15-37-44_combined_force_interp.csv\", index=False)"
   ]
  },
  {
   "cell_type": "markdown",
   "id": "5a23f17d-10e3-45be-af59-fc85cd34905e",
   "metadata": {},
   "source": [
    "### Plot rescaled combinations"
   ]
  },
  {
   "cell_type": "code",
   "execution_count": null,
   "id": "56e1f236-9e21-4bfa-a714-1c7dfff6935d",
   "metadata": {},
   "outputs": [],
   "source": [
    "pos_uniques = dataset[\"position\"].unique()\n",
    "\n",
    "plt.figure(figsize=(10,2))\n",
    "\n",
    "n_combos = 0\n",
    "\n",
    "colours = [\"red\", \"darkblue\", \"darkorange\", \"purple\", \"green\", \"cyan\", \"crimson\"]\n",
    "hsd_values = np.arange(0, 13, 2)\n",
    "\n",
    "for pos in pos_uniques:\n",
    "    pos_subset = dataset[dataset[\"position\"] == pos]\n",
    "    force_uniques = pos_subset[\"force\"].unique()\n",
    "    \n",
    "    for idx, force in enumerate(force_uniques):\n",
    "        plt.scatter(pos, force, c=colours[idx], ec=\"black\", zorder=3, label=hsd_values[idx])\n",
    "        n_combos += 1\n",
    "\n",
    "print(f\"Number of combinations: {n_combos}\")\n",
    "\n",
    "# Formatting\n",
    "plt.xticks(np.arange(0, 670, 20), rotation=45)\n",
    "plt.xlim(-10,670)\n",
    "plt.ylim(-1, 13)\n",
    "plt.yticks(np.arange(0, 13, 2))\n",
    "plt.grid(which=\"both\", color=\"lightgrey\", zorder=1)\n",
    "plt.xlabel(\"Bow position [mm]\")\n",
    "plt.ylabel(\"Proxy force [0-12]\")\n",
    "plt.title(\"Rescaled Bow Position & Proxy Force Combinations in Bow Tracking Dataset\")\n",
    "\n",
    "# Remove legend duplicates\n",
    "handles, labels = plt.gca().get_legend_handles_labels()\n",
    "by_label = dict(zip(labels, handles))\n",
    "plt.legend(by_label.values(), by_label.keys(), title=\"HSD\", loc=\"right\", bbox_to_anchor=[1.11, 0.5, 0, 0])\n",
    "\n",
    "plt.show()"
   ]
  },
  {
   "cell_type": "code",
   "execution_count": null,
   "id": "2543f1a2-f83e-4f20-8099-48a6e050fd16",
   "metadata": {},
   "outputs": [],
   "source": []
  }
 ],
 "metadata": {
  "kernelspec": {
   "display_name": "Python 3 (ipykernel)",
   "language": "python",
   "name": "python3"
  },
  "language_info": {
   "codemirror_mode": {
    "name": "ipython",
    "version": 3
   },
   "file_extension": ".py",
   "mimetype": "text/x-python",
   "name": "python",
   "nbconvert_exporter": "python",
   "pygments_lexer": "ipython3",
   "version": "3.11.7"
  }
 },
 "nbformat": 4,
 "nbformat_minor": 5
}
