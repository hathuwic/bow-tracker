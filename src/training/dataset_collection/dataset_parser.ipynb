{
 "cells": [
  {
   "cell_type": "code",
   "execution_count": null,
   "id": "325a100b-e5c0-453d-a079-0154c02dc69a",
   "metadata": {},
   "outputs": [],
   "source": [
    "import pandas as pd\n",
    "import numpy as np\n",
    "import matplotlib.pyplot as plt\n",
    "import os"
   ]
  },
  {
   "cell_type": "code",
   "execution_count": null,
   "id": "f7be1585-d187-4b31-8dec-0d98af786911",
   "metadata": {},
   "outputs": [],
   "source": [
    "dataset_path = \"./dataset_collection/dataset/dataset_2024-04-22_15-37-44.csv\"\n",
    "\n",
    "columns = [\n",
    "    \"dataset_index\",\n",
    "    \"norm1\", \"norm2\", \"norm3\", \"norm4\",\n",
    "    \"res_range_status_1\", \"res_distance_1\", \"res_ambient_rate_kcps_1\", \"res_ambient_per_spad_kcps_1\", \"res_signal_rate_kcps_1\", \"res_signal_per_spad_kcps_1\", \"res_number_of_spad_1\", \"res_sigma_mm_1\",\n",
    "    \"res_range_status_2\", \"res_distance_2\", \"res_ambient_rate_kcps_2\", \"res_ambient_per_spad_kcps_2\", \"res_signal_rate_kcps_2\", \"res_signal_per_spad_kcps_2\", \"res_number_of_spad_2\", \"res_sigma_mm_2\",\n",
    "    \"res_range_status_3\", \"res_distance_3\", \"res_ambient_rate_kcps_3\", \"res_ambient_per_spad_kcps_3\", \"res_signal_rate_kcps_3\", \"res_signal_per_spad_kcps_3\", \"res_number_of_spad_3\", \"res_sigma_mm_3\",\n",
    "    \"res_range_status_4\", \"res_distance_4\", \"res_ambient_rate_kcps_4\", \"res_ambient_per_spad_kcps_4\", \"res_signal_rate_kcps_4\", \"res_signal_per_spad_kcps_4\", \"res_number_of_spad_4\", \"res_sigma_mm_4\",\n",
    "    \"position\", \"hair_stick_distance\"\n",
    "]\n",
    "\n",
    "with open(dataset_path, \"r\") as f:\n",
    "    data = f.readlines()\n",
    "    dataset_formatted = pd.DataFrame(index=range(len(data)), columns=columns)\n",
    "    print(dataset_formatted.shape)\n",
    "    \n",
    "    for i, row in enumerate(data):\n",
    "        df_row_idx = i\n",
    "        dataset_index, row_data = row.split(\",\")\n",
    "        dataset_formatted.loc[df_row_idx, \"dataset_index\"] = dataset_index\n",
    "        values = row_data.split(\" \")[1:]\n",
    "        for j, value in enumerate(values):\n",
    "            if value.endswith(\";\\n\"): # Handle final value with '\\n' terminator\n",
    "                dataset_formatted.iloc[df_row_idx, j+1] = float(value.split(\";\\n\")[0])\n",
    "            else: # General case\n",
    "                dataset_formatted.iloc[df_row_idx, j+1] = float(value)\n",
    "        if i % 1000 == 0 and i > 0:\n",
    "            print(f\"  Processed {i} of {len(data)} rows...\")\n",
    "\n",
    "print(\"---\\nProcessed whole dataset.\")\n",
    "formatted_dataset_save_path = f\"{dataset_path.split('.csv')[0]}_formatted.csv\"\n",
    "dataset_formatted.to_csv(formatted_dataset_save_path, index=False)\n",
    "print(f\"Saved formatted dataset to: {formatted_dataset_save_path}\")\n",
    "dataset_formatted"
   ]
  },
  {
   "cell_type": "code",
   "execution_count": null,
   "id": "db6f96e3-9459-457f-ac9c-bdc1ac4587ba",
   "metadata": {},
   "outputs": [],
   "source": []
  }
 ],
 "metadata": {
  "kernelspec": {
   "display_name": "Python 3 (ipykernel)",
   "language": "python",
   "name": "python3"
  },
  "language_info": {
   "codemirror_mode": {
    "name": "ipython",
    "version": 3
   },
   "file_extension": ".py",
   "mimetype": "text/x-python",
   "name": "python",
   "nbconvert_exporter": "python",
   "pygments_lexer": "ipython3",
   "version": "3.11.7"
  }
 },
 "nbformat": 4,
 "nbformat_minor": 5
}
