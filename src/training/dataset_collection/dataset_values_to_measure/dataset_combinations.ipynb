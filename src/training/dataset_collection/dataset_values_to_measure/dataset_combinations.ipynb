{
 "cells": [
  {
   "cell_type": "code",
   "execution_count": 2,
   "id": "a127f463-748c-4e66-afd2-ae55c1087058",
   "metadata": {},
   "outputs": [],
   "source": [
    "import numpy as np"
   ]
  },
  {
   "cell_type": "code",
   "execution_count": 7,
   "id": "85c3b9c9-f713-4acf-9624-1808c0e3f95d",
   "metadata": {},
   "outputs": [
    {
     "name": "stdout",
     "output_type": "stream",
     "text": [
      "Generated file with 305 combinations.\n"
     ]
    }
   ],
   "source": [
    "pos_values = np.arange(0, 662, 20)\n",
    "hsd_values = np.arange(0, 18, 2)\n",
    "hsd_per_pos = len(hsd_values)\n",
    "\n",
    "with open(\"dataset_combinations.txt\", \"w+\") as f:\n",
    "    for i, pos in enumerate(pos_values):\n",
    "        for j, hsd in enumerate(hsd_values):\n",
    "            idx = (hsd_per_pos*i) + j\n",
    "            f.write(f\"{idx}, {pos} {hsd};\\n\")\n",
    "\n",
    "print(f\"Generated file with {idx} combinations.\")"
   ]
  },
  {
   "cell_type": "code",
   "execution_count": null,
   "id": "9174c485-e0bb-44ad-847b-68a126a9784c",
   "metadata": {},
   "outputs": [],
   "source": []
  }
 ],
 "metadata": {
  "kernelspec": {
   "display_name": "Python 3 (ipykernel)",
   "language": "python",
   "name": "python3"
  },
  "language_info": {
   "codemirror_mode": {
    "name": "ipython",
    "version": 3
   },
   "file_extension": ".py",
   "mimetype": "text/x-python",
   "name": "python",
   "nbconvert_exporter": "python",
   "pygments_lexer": "ipython3",
   "version": "3.11.7"
  }
 },
 "nbformat": 4,
 "nbformat_minor": 5
}
