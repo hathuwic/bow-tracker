{
 "cells": [
  {
   "cell_type": "markdown",
   "id": "7c29eb63-40ad-4727-8d6c-510ad655420b",
   "metadata": {},
   "source": [
    "# Bow tracking model training w/ TensorFlow"
   ]
  },
  {
   "cell_type": "code",
   "execution_count": null,
   "id": "18fdebb8-902f-4dad-8b92-e5c278038c6d",
   "metadata": {},
   "outputs": [],
   "source": [
    "import numpy as np\n",
    "import pandas as pd\n",
    "import matplotlib.pyplot as plt\n",
    "import datetime\n",
    "import sklearn\n",
    "import random\n",
    "import math\n",
    "import json\n",
    "import time\n",
    "import os\n",
    "\n",
    "import tensorflow as tf\n",
    "from tensorflow import keras\n",
    "from keras.models import Model\n",
    "from keras.layers import Layer, Dense, Dropout, BatchNormalization, Activation\n",
    "\n",
    "from sklearn.model_selection import train_test_split\n",
    "\n",
    "print(os.getcwd())"
   ]
  },
  {
   "cell_type": "code",
   "execution_count": null,
   "id": "09c79454-395f-44f6-980d-6f1cea55df29",
   "metadata": {},
   "outputs": [],
   "source": [
    "def now():\n",
    "    # Get current date and time and generate string\n",
    "    now = datetime.datetime.now()\n",
    "    now_string = now.strftime(\"%Y-%m-%d_%H-%M-%S\")\n",
    "\n",
    "    return now_string\n",
    "\n",
    "def model_save_paths(batch_size, learning_rate, epochs):\n",
    "    model_save_location = f\"./trained_models/{now()}_BowTrackingModel_btch-{batch_size}_lr-{learning_rate}_epoch-{epochs}\"\n",
    "    history_save_location = f\"./trained_models/history/{now()}_BowTrackingModel_btch-{batch_size}_lr-{learning_rate}_epoch-{epochs}.json\"\n",
    "    mae_results_save_location = f\"./trained_models/mae_section_results/{now()}_BowTrackingModel_btch-{batch_size}_lr-{learning_rate}_epoch-{epochs}.csv\"\n",
    "\n",
    "    return (model_save_location, history_save_location, mae_results_save_location)"
   ]
  },
  {
   "cell_type": "markdown",
   "id": "6a1c2f64-55fc-45ff-a911-04915d53da17",
   "metadata": {},
   "source": [
    "### 1. Define model architecture"
   ]
  },
  {
   "cell_type": "code",
   "execution_count": null,
   "id": "f7fd61bb-3e38-47b7-b8cc-e193eb134601",
   "metadata": {},
   "outputs": [],
   "source": [
    "class BowTrackingModel(Model):\n",
    "    def __init__(self):\n",
    "\n",
    "        dropout = 0.35\n",
    "        \n",
    "        super(BowTrackingModel, self).__init__()\n",
    "        self.dense1 = Dense(units=256, activation=\"tanh\", name=\"Dense1\")\n",
    "        self.batch_norm_1 = BatchNormalization(name=\"BatchNormalization1\")\n",
    "        self.dropout1 = Dropout(dropout, name=\"Dropout1\")\n",
    "        self.dense2 = Dense(units=256, activation=\"tanh\", name=\"Dense2\")\n",
    "        self.tanh1 = Activation(\"tanh\", name=\"Activation\")\n",
    "        self.batch_norm_2 = BatchNormalization(name=\"BatchNormalization2\")\n",
    "        self.dropout2 = Dropout(dropout, name=\"Dropout2\")\n",
    "        self.dense3 = Dense(units=256, activation=\"tanh\", name=\"Dense3\")\n",
    "        self.dense4 = Dense(units=2, activation=\"relu\", name=\"Dense4\")\n",
    "\n",
    "    def call(self, x):\n",
    "        x = self.dense1(x)\n",
    "        x = self.dropout1(x)\n",
    "        x = self.batch_norm_1(x)\n",
    "        x = self.dense2(x)\n",
    "        x = self.tanh1(x)\n",
    "        x = self.batch_norm_2(x)\n",
    "        x = self.dropout2(x)\n",
    "        x = self.dense3(x)\n",
    "        x = self.dense4(x)\n",
    "        return x"
   ]
  },
  {
   "cell_type": "markdown",
   "id": "12ba5abe-72c1-4f0e-8c85-92597b3467ba",
   "metadata": {},
   "source": [
    "### 2. Create and compile model"
   ]
  },
  {
   "cell_type": "code",
   "execution_count": null,
   "id": "cc986b54-7b09-402c-bc7c-fdc0e0d8fcff",
   "metadata": {},
   "outputs": [],
   "source": [
    "learning_rate = 0.0001\n",
    "batch_size = 64\n",
    "\n",
    "n_inputs = 4\n",
    "n_outputs = 2\n",
    "\n",
    "model = BowTrackingModel()\n",
    "\n",
    "optimizer = tf.keras.optimizers.Adam(learning_rate=learning_rate)\n",
    "loss = tf.keras.losses.MeanAbsoluteError()\n",
    "\n",
    "# Define evaluation metrics\n",
    "metric_accuracy = tf.keras.metrics.Accuracy()\n",
    "metric_mse = tf.keras.metrics.MeanAbsoluteError()\n",
    "metric_mspe = tf.keras.metrics.MeanAbsolutePercentageError()\n",
    "metric_r2 = tf.keras.metrics.R2Score()\n",
    "metric_rmse = tf.keras.metrics.RootMeanSquaredError()\n",
    "metrics = [metric_accuracy, metric_mse, metric_mspe, metric_r2, metric_rmse]\n",
    "\n",
    "model.compile(\n",
    "    optimizer=optimizer, \n",
    "    loss=loss, \n",
    "    metrics=metrics\n",
    ")\n",
    "model.build(input_shape=(1, n_inputs))\n",
    "model.summary()\n",
    "\n",
    "tf.keras.utils.plot_model(model, \"./bt_model_diagram_vertical.png\", show_shapes=True, rankdir=\"TB\", show_dtype=False, dpi=300)"
   ]
  },
  {
   "cell_type": "markdown",
   "id": "dff1a477-2182-41b6-9065-77f6bbb31a7c",
   "metadata": {},
   "source": [
    "### 3. Load and format dataset"
   ]
  },
  {
   "cell_type": "code",
   "execution_count": null,
   "id": "57b913a0-347f-4f63-9f6d-9365234fc117",
   "metadata": {},
   "outputs": [],
   "source": [
    "cols_to_keep = [\"position\", \"hair_stick_distance\", \"force\", \"norm1\", \"norm2\", \"norm3\", \"norm4\"]\n",
    "\n",
    "dataset_folder = \"./dataset/\"\n",
    "dataset_filename = \"\"\n",
    "dataset_filepath = os.path.join(dataset_folder, dataset_filename)\n",
    "\n",
    "dataset = pd.read_csv(dataset_filepath)\n",
    "\n",
    "dataset"
   ]
  },
  {
   "cell_type": "markdown",
   "id": "6ee31a5d-d9d9-4003-9c41-97db8eb54e11",
   "metadata": {},
   "source": [
    "### 4. Get testing and training sets"
   ]
  },
  {
   "cell_type": "code",
   "execution_count": null,
   "id": "71170659-bedb-4dc5-a820-f2553dd68291",
   "metadata": {},
   "outputs": [],
   "source": [
    "input_cols = [\"norm1\", \"norm2\", \"norm3\", \"norm4\"]\n",
    "output_cols = [\"position\", \"force\"]\n",
    "\n",
    "input_data = dataset[input_cols].to_numpy()\n",
    "output_data = dataset[output_cols].to_numpy()\n",
    "\n",
    "input_train, input_test, output_train, output_test = train_test_split(input_data, output_data, test_size=0.3, shuffle=True)\n",
    "\n",
    "print(input_train.shape)\n",
    "print(input_test.shape)\n",
    "print(output_train.shape)\n",
    "print(output_test.shape)"
   ]
  },
  {
   "cell_type": "markdown",
   "id": "5e18ff69-8484-448b-a81e-5e3144d65622",
   "metadata": {},
   "source": [
    "### 5. Train model"
   ]
  },
  {
   "cell_type": "code",
   "execution_count": null,
   "id": "78bce7ed-ca1a-4ad0-8c8e-5b946bf9af7f",
   "metadata": {},
   "outputs": [],
   "source": [
    "epochs = 25\n",
    "\n",
    "# Define callbacks\n",
    "callback_stop = tf.keras.callbacks.EarlyStopping(monitor='loss', patience=10)\n",
    "callback_checkpoint = tf.keras.callbacks.ModelCheckpoint(\n",
    "    filepath=f\"./trained_models/model_checkpoints/{now()}_BowTrackingModel_local_btch-{batch_size}_lr-{learning_rate}\",\n",
    "    verbose=1\n",
    ")\n",
    "\n",
    "# Train model\n",
    "history = model.fit(\n",
    "    x=input_train,\n",
    "    y=output_train,\n",
    "    epochs=epochs,\n",
    "    batch_size=batch_size,\n",
    "    callbacks=[callback_stop, callback_checkpoint]\n",
    ")"
   ]
  },
  {
   "cell_type": "markdown",
   "id": "5c997193-4280-465e-82b4-b32f59232e9f",
   "metadata": {},
   "source": [
    "### 6. Evaluate R2 score and MAE of model"
   ]
  },
  {
   "cell_type": "code",
   "execution_count": null,
   "id": "cdf81ebe-2c70-4187-bcf9-7e6102da4252",
   "metadata": {},
   "outputs": [],
   "source": [
    "output_test_predicted = model.predict(input_test)\n",
    "\n",
    "print(f\"Coefficient of determination (r2 score): {sklearn.metrics.r2_score(output_test, output_test_predicted)}\")\n",
    "print(f\"Overall MAE: {sklearn.metrics.mean_absolute_error(output_test, output_test_predicted)}\")    "
   ]
  },
  {
   "cell_type": "markdown",
   "id": "3386ba40-d72d-479d-8f60-0e54b0d3a039",
   "metadata": {},
   "source": [
    "### 7. Evaluate MAE in different sectors"
   ]
  },
  {
   "cell_type": "code",
   "execution_count": null,
   "id": "9e6e8304-7aa2-46aa-a6b1-5194c83e9b1a",
   "metadata": {},
   "outputs": [],
   "source": [
    "pos_boundaries = [0, 230, 440, 660]\n",
    "hsd_boundaries = [0, 1, 3, 5, 12]\n",
    "\n",
    "h_sections = len(pos_boundaries)-1\n",
    "v_sections = len(hsd_boundaries)-1\n",
    "\n",
    "mae_results = pd.DataFrame()\n",
    "\n",
    "for h_sect in range(h_sections):\n",
    "    pos_lower = pos_boundaries[h_sect]\n",
    "    pos_upper = pos_boundaries[h_sect+1]\n",
    "\n",
    "    for v_sect in range(v_sections):\n",
    "        hsd_lower = hsd_boundaries[v_sect]\n",
    "        hsd_upper = hsd_boundaries[v_sect+1]\n",
    "\n",
    "        true_idxs = []\n",
    "        for i, output in enumerate(output_test):\n",
    "            if pos_lower <= output[0] <= pos_upper and hsd_lower <= output[1] <= hsd_upper:\n",
    "                true_idxs.append(i)\n",
    "        error_total_2d = 0\n",
    "        error_total_x  = 0\n",
    "        error_total_y  = 0\n",
    "        for i in true_idxs:\n",
    "            meas_output = output_test[i]\n",
    "            pred_output = output_test_predicted[i]\n",
    "            \n",
    "            abs_error = math.sqrt(pow(meas_output[0]-pred_output[0], 2) + pow(meas_output[1]-pred_output[1], 2))\n",
    "            error_total_2d += abs_error\n",
    "\n",
    "            x_error = math.sqrt(pow(meas_output[0]-pred_output[0], 2))\n",
    "            error_total_x += x_error\n",
    "            y_error = math.sqrt(pow(meas_output[1]-pred_output[1], 2))\n",
    "            error_total_y += y_error\n",
    "            \n",
    "        mae = error_total_2d / len(true_idxs)\n",
    "        x_mae = error_total_x / len(true_idxs)\n",
    "        y_mae = error_total_y / len(true_idxs)\n",
    "\n",
    "        mae_results_i = len(mae_results.index)\n",
    "        mae_results.loc[mae_results_i, \"pos_lower\"] = pos_lower\n",
    "        mae_results.loc[mae_results_i, \"pos_upper\"] = pos_upper\n",
    "        mae_results.loc[mae_results_i, \"hsd_lower\"] = hsd_lower\n",
    "        mae_results.loc[mae_results_i, \"hsd_upper\"] = hsd_upper\n",
    "        mae_results.loc[mae_results_i, \"combined_mae\"] = mae\n",
    "        mae_results.loc[mae_results_i, \"x_mae\"] = x_mae\n",
    "        mae_results.loc[mae_results_i, \"y_mae\"] = y_mae\n",
    "\n",
    "mae_results"
   ]
  },
  {
   "cell_type": "markdown",
   "id": "739922b9-b942-4d95-a894-08bfd6eb2ceb",
   "metadata": {},
   "source": [
    "### 8. Plot model accuracy for random samples in test set"
   ]
  },
  {
   "cell_type": "code",
   "execution_count": null,
   "id": "ae14fdfc-f052-41cf-b06b-0be549e71474",
   "metadata": {},
   "outputs": [],
   "source": [
    "n_individual_tests = 250 # Number of random points to check\n",
    "red_threshold = 50       # Distance in mm between measured and predicted in order for line to be fully red\n",
    "\n",
    "plt.figure(figsize=(8,3))\n",
    "plt.ylim(0,13)\n",
    "plt.xlim(0,660)\n",
    "\n",
    "sensor_positions = [562, 465, 189, 69]\n",
    "\n",
    "for i in range(n_individual_tests):\n",
    "    idx = random.randint(0, input_test.shape[0])\n",
    "    \n",
    "    input_data = input_test[idx].reshape((1,4))\n",
    "    \n",
    "    call_start = time.time()\n",
    "    prediction = model(input_data).numpy()[0]\n",
    "    call_time = time.time() - call_start\n",
    "    \n",
    "    actual = output_test[idx]\n",
    "\n",
    "    distance_between_points = math.sqrt((prediction[0]-actual[0])**2 + (prediction[1]-actual[1])**2)\n",
    "    scaled_distance = distance_between_points / red_threshold if distance_between_points <= red_threshold else 1\n",
    "    line_colour = (scaled_distance, 1-scaled_distance, 0)\n",
    "\n",
    "    x_vals = [prediction[0], actual[0]]\n",
    "    y_vals = [prediction[1], actual[1]]\n",
    "    \n",
    "    plt.plot(x_vals, y_vals, linewidth=0.5, color=line_colour)\n",
    "    plt.scatter(x_vals[0], y_vals[0], marker=\"o\", c=\"orange\", edgecolors=\"black\", linewidths=0.5, s=25, label=\"Predicted\" if i == 0 else \"\", zorder=2)\n",
    "    plt.scatter(x_vals[1], y_vals[1], marker=\"s\", c=\"purple\", edgecolors=\"black\", linewidths=0.5, s=25, label=\"Measured\" if i == 0 else \"\", zorder=2)\n",
    "\n",
    "for k, sensor_pos in enumerate(sensor_positions):\n",
    "    plt.axvline(\n",
    "        sensor_pos, \n",
    "        ls=\":\", \n",
    "        c=\"black\", \n",
    "        lw=1, \n",
    "        label=\"Sensor positions\" if k == 0 else \"\"\n",
    "    )\n",
    "\n",
    "plt.xlabel(\"Position [mm]\")\n",
    "plt.ylabel(\"HSD [mm]\")\n",
    "plt.legend()\n",
    "plt.grid(alpha=0.25, color=\"lightgrey\")\n",
    "plt.show()"
   ]
  },
  {
   "cell_type": "markdown",
   "id": "2b056c53-e7bf-4f04-ab28-b8ed2db90f15",
   "metadata": {},
   "source": [
    "### 9. Save model, model history, and MAE results to file"
   ]
  },
  {
   "cell_type": "code",
   "execution_count": null,
   "id": "8979f5ef-d7d2-4c78-9bb7-be3d52208fa6",
   "metadata": {},
   "outputs": [],
   "source": [
    "model_save_path, history_save_path, mae_results_save_path = model_save_paths(batch_size, learning_rate, epochs)\n",
    "\n",
    "model.save(model_save_path)\n",
    "print(f\"Saved model to {model_save_path}\")\n",
    "\n",
    "# Save model history dict to json\n",
    "model_history_data = history.history\n",
    "json.dump(model_history_data, open(history_save_path, \"w+\"))\n",
    "print(f\"Saved model history to {history_save_path}\")\n",
    "\n",
    "mae_results.to_csv(mae_results_save_path, index=False)\n",
    "print(f\"Saved MAE results to {mae_results_save_path}\")"
   ]
  }
 ],
 "metadata": {
  "kernelspec": {
   "display_name": "Python 3 (ipykernel)",
   "language": "python",
   "name": "python3"
  },
  "language_info": {
   "codemirror_mode": {
    "name": "ipython",
    "version": 3
   },
   "file_extension": ".py",
   "mimetype": "text/x-python",
   "name": "python",
   "nbconvert_exporter": "python",
   "pygments_lexer": "ipython3",
   "version": "3.11.7"
  }
 },
 "nbformat": 4,
 "nbformat_minor": 5
}
